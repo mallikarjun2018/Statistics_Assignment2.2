{
 "cells": [
  {
   "cell_type": "markdown",
   "metadata": {},
   "source": [
    "Problem : A die marked A to E is rolled 50 times. Find the probability of getting a “D” exactly 5 times\n",
    "    \n",
    "Solution:\n",
    "    \n",
    "\n",
    "a = 50, b = 5, n - k = 45.\n",
    "\n",
    "probability of getting a “D”= s = 1/5\n",
    "\n",
    "probability of not getting a “D” = 1 - s = 4/5.\n",
    "\n",
    "\n"
   ]
  }
 ],
 "metadata": {
  "kernelspec": {
   "display_name": "Python 3",
   "language": "python",
   "name": "python3"
  },
  "language_info": {
   "codemirror_mode": {
    "name": "ipython",
    "version": 3
   },
   "file_extension": ".py",
   "mimetype": "text/x-python",
   "name": "python",
   "nbconvert_exporter": "python",
   "pygments_lexer": "ipython3",
   "version": "3.6.4"
  }
 },
 "nbformat": 4,
 "nbformat_minor": 2
}
